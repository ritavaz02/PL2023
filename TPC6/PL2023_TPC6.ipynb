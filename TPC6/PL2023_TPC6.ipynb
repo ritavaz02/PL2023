{
 "cells": [
  {
   "attachments": {},
   "cell_type": "markdown",
   "metadata": {},
   "source": [
    "# TPC6: Analisador Léxico para uma Linguagem de Programação\n",
    "\n",
    "Usando o `Ply` constrói um analisador léxico que devolve a lista de tokens para a linguagem de programação que se exemplifica a seguir.\n",
    "\n",
    "## Exemplo1\n",
    "\n",
    "```\n",
    "/* factorial.p\n",
    "-- 2023-03-20 \n",
    "-- by jcr\n",
    "*/\n",
    "\n",
    "int i;\n",
    "\n",
    "// Função que calcula o factorial dum número n\n",
    "function fact(n){\n",
    "  int res = 1;\n",
    "  while res > 1 {\n",
    "    res = res * n;\n",
    "    res = res - 1;\n",
    "  }\n",
    "}\n",
    "\n",
    "// Programa principal\n",
    "program myFact{\n",
    "  for i in [1..10]{\n",
    "    print(i, fact(i));\n",
    "  }\n",
    "}\n",
    "\n",
    "``` \n",
    "\n",
    "## Exemplo2\n",
    "\n",
    "```\n",
    "/* max.p: calcula o maior inteiro duma lista desordenada\n",
    "-- 2023-03-20 \n",
    "-- by jcr\n",
    "*/\n",
    "\n",
    "int i = 10, a[10] = {1,2,3,4,5,6,7,8,9,10};\n",
    "\n",
    "// Programa principal\n",
    "program myMax{\n",
    "  int max = a[0];\n",
    "  for i in [1..9]{\n",
    "    if max < a[i] {\n",
    "      max = a[i];\n",
    "    }\n",
    "  }\n",
    "  print(max);\n",
    "}\n",
    "\n",
    "``` "
   ]
  }
 ],
 "metadata": {
  "kernelspec": {
   "display_name": "Python 3",
   "language": "python",
   "name": "python3"
  },
  "language_info": {
   "codemirror_mode": {
    "name": "ipython",
    "version": 3
   },
   "file_extension": ".py",
   "mimetype": "text/x-python",
   "name": "python",
   "nbconvert_exporter": "python",
   "pygments_lexer": "ipython3",
   "version": "3.11.1"
  },
  "orig_nbformat": 4,
  "vscode": {
   "interpreter": {
    "hash": "e7370f93d1d0cde622a1f8e1c04877d8463912d04d973331ad4851f04de6915a"
   }
  }
 },
 "nbformat": 4,
 "nbformat_minor": 2
}
