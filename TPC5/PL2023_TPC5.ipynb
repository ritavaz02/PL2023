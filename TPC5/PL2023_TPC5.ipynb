{
 "cells": [
  {
   "attachments": {},
   "cell_type": "markdown",
   "metadata": {},
   "source": [
    "# TPC4: A cabine telefónica\n",
    "\n",
    "Hoje em dia, as cabines telefónicas, popularizadas pela famosa cabine londrina vermelha, caíram em desuso e têm vindo gradualmente a desaparecer. No entanto, podem ainda ser encontradas num ou noutro local.\n",
    "\n",
    "Neste problema, pretende-se que implemente uma máquina de estados que modele a interacção dum utilizador com um telefone numa cabine pública.\n",
    "\n",
    "O telefone reage aos seguintes comandos:\n",
    "\n",
    "- **LEVANTAR**: levantar o auscultador, marca o início duma interacção;\n",
    "- **POUSAR**: pousar o auscultador, fim da interacção, deverá ser indicado o montante a ser devolvido;\n",
    "- **MOEDA <lista de valores>**: inserção de moedas (só deverá aceitar moedas válidas, para valores inválidos deverá ser gerada uma mensagem de erro): lista de valores = num, num, ..., num;\n",
    "- **T=numero**: disca o número ( o número deve ter 9 dígitos excepto se for iniciado por \"00\"); as diferentes chamadas deverão ser tratadas da seguinte maneira:\n",
    "    - para números iniciados por \"601\" ou \"641\" a chamada é \"bloqueada\";\n",
    "    - para chamadas internacionais (iniciadas por \"00\") o utilizador tem que ter um saldo igual ou superior a 1,5 euros, caso contrário deverá ser avisado que o saldo é insuficiente e a máquina volta ao estado anterior; a chamada se for realizada tem um custo de 1,5 euros;\n",
    "    - para chamadas nacionais (iniciadas por \"2\") o saldo mínimo e custo de chamada é de 25 cêntimos;\n",
    "    - para chamadas verdes (iniciadas por \"800\") o custo é 0;\n",
    "    - para chamadas azuis (iniciadas por \"808\") o custo é de 10 cêntimos.\n",
    "- **ABORTAR**: interromper a interacção; a máquina devolve as moedas.\n",
    "\n",
    "Como extra pode ainda detalhar como é que é devolvido o troco: quantas moedas e de que espécie compõem o troco.\n",
    "\n",
    "A seguir apresenta-se uma possível interacção exemplo.\n",
    "\n",
    "1. LEVANTAR\n",
    "1. maq: \"Introduza moedas.\"\n",
    "1. MOEDA 10c, 30c, 50c, 2e.\n",
    "1. maq: \"30c - moeda inválida; saldo = 2e60c\"\n",
    "1. T=601181818\n",
    "1. maq: \"Esse número não é permitido neste telefone. Queira discar novo número!\"\n",
    "1. T=253604470\n",
    "1. maq: \"saldo = 2e35c\"\n",
    "1. POUSAR\n",
    "1. maq: \"troco=2e35c; Volte sempre!\" ou maq: \"troco= 1x2e, 1x20c, 1x10c, 1x5c; Volte sempre!\"\n",
    "\n",
    "Nota: as linhas iniciadas por \"maq:\" correspondem às respostas da máquina."
   ]
  }
 ],
 "metadata": {
  "kernelspec": {
   "display_name": "Python 3",
   "language": "python",
   "name": "python3"
  },
  "language_info": {
   "codemirror_mode": {
    "name": "ipython",
    "version": 3
   },
   "file_extension": ".py",
   "mimetype": "text/x-python",
   "name": "python",
   "nbconvert_exporter": "python",
   "pygments_lexer": "ipython3",
   "version": "3.11.1"
  },
  "orig_nbformat": 4,
  "vscode": {
   "interpreter": {
    "hash": "e7370f93d1d0cde622a1f8e1c04877d8463912d04d973331ad4851f04de6915a"
   }
  }
 },
 "nbformat": 4,
 "nbformat_minor": 2
}
