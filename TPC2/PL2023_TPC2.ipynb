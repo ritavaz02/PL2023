{
 "cells": [
  {
   "cell_type": "markdown",
   "metadata": {},
   "source": [
    "# TPC2: Somador on/off\n",
    "\n",
    "Crie um programa em Python que tenha o seguinte comportamento:\n",
    "\n",
    "  * Pretende-se um programa que some todas as sequências de dígitos que encontre num texto;\n",
    "  * Prepare o programa para ler o texto do canal de entrada: stdin;\n",
    "  * Sempre que encontrar a string “Off” em qualquer combinação de maiúsculas e minúsculas, esse comportamento é desligado;\n",
    "  * Sempre que encontrar a string “On” em qualquer combinação de maiúsculas e minúsculas, esse comportamento é novamente ligado;\n",
    "  * Sempre que encontrar o caráter “=”, o resultado da soma é colocado na saída.\n"
   ]
  },
  {
   "cell_type": "code",
   "execution_count": 2,
   "metadata": {},
   "outputs": [
    {
     "name": "stdout",
     "output_type": "stream",
     "text": [
      "The string is: '12off=4f9049hg05on4='\n",
      "The sum so far is: 3\n",
      "The sum so far is: 7\n"
     ]
    }
   ],
   "source": [
    "def main():\n",
    "\n",
    "    user_input = input(\"Enter something: \")\n",
    "    print(\"The string is: '\" + user_input + \"'\")\n",
    "\n",
    "    counter = 0 # sum of the digits\n",
    "    flag = 0 # tells the index on the words 'on' or 'off'\n",
    "    stopCounting = 0 # if 0 its to count the digit, else don't count it\n",
    "\n",
    "    for c in user_input:\n",
    "        if stopCounting==0 and c.isdigit()==True: # its a digit and its not after an 'off'\n",
    "            counter += int(c)\n",
    "            flag = 0 # stop counting the index on the words 'on' or 'off' \n",
    "        elif c == \"=\":\n",
    "            print(\"The sum so far is: \" + str(counter)) # print the sum\n",
    "            flag = 0\n",
    "        elif c.lower() == \"o\":\n",
    "            if flag == 0: # it's the first 'o' to appear\n",
    "                flag = 1\n",
    "            else: # there were two 'o' in a row, stop counting the index\n",
    "                flag = 0\n",
    "        elif c.lower() == \"f\":\n",
    "            if flag == 1: # word = 'of', increment the index\n",
    "                flag = 2\n",
    "            elif flag == 2: # word = 'off', active the flag to stop counting the digits\n",
    "                flag = 0\n",
    "                stopCounting = 1\n",
    "        elif c.lower() == \"n\":\n",
    "            if flag == 1: # word = 'on', active the flag to start counting the digits\n",
    "                stopCounting = 0\n",
    "            flag = 0\n",
    "        else: # ignore\n",
    "            flag = 0\n",
    "\n",
    "    print(\"The final sum is: \" + str(counter))\n",
    "\n",
    "main()"
   ]
  }
 ],
 "metadata": {
  "kernelspec": {
   "display_name": "Python 3",
   "language": "python",
   "name": "python3"
  },
  "language_info": {
   "codemirror_mode": {
    "name": "ipython",
    "version": 3
   },
   "file_extension": ".py",
   "mimetype": "text/x-python",
   "name": "python",
   "nbconvert_exporter": "python",
   "pygments_lexer": "ipython3",
   "version": "3.11.1"
  },
  "orig_nbformat": 4,
  "vscode": {
   "interpreter": {
    "hash": "e7370f93d1d0cde622a1f8e1c04877d8463912d04d973331ad4851f04de6915a"
   }
  }
 },
 "nbformat": 4,
 "nbformat_minor": 2
}
