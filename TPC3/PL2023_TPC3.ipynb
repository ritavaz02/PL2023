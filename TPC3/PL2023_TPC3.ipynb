{
 "cells": [
  {
   "attachments": {},
   "cell_type": "markdown",
   "metadata": {},
   "source": [
    "# TPC3: Processador de Pessoas listadas nos Róis de Confessados\n",
    "\n",
    "Construa agora um ou vários programas Python para processar o texto 'processos.txt' (procurar o ficheiro no Bb) com o intuito de calcular frequências de alguns elementos (a ideia é utilizar arrays associativos, dicionários em Python, para o efeito) conforme solicitado a seguir:"
   ]
  },
  {
   "cell_type": "code",
   "execution_count": 1,
   "metadata": {},
   "outputs": [
    {
     "data": {
      "text/plain": [
       "37880"
      ]
     },
     "execution_count": 1,
     "metadata": {},
     "output_type": "execute_result"
    }
   ],
   "source": [
    "from collections import Counter\n",
    "import re\n",
    "import json\n",
    "\n",
    "\n",
    "myDict = {'freq':[],'date':[],'name':[],'father':[],'mother':[],'otherFamily':[]}\n",
    "pattern = re.compile(r'^(?P<freq>[0-9]*)::(?P<date>[0-9]{4}-[0-9]{2}-[0-9]{2})*::(?P<name>.*)::(?P<father>.*)::(?P<mother>.*)::(?P<otherFamily>.*)::$')\n",
    "with open('processos.txt', 'r') as file:\n",
    "    for line in file:\n",
    "        if line.strip() != '':\n",
    "            matches = pattern.search(line).groupdict()\n",
    "            myDict['freq'].append(matches['freq'])\n",
    "            myDict['date'].append(matches['date'])\n",
    "            myDict['name'].append(matches['name'])\n",
    "            myDict['father'].append(matches['father'])\n",
    "            myDict['mother'].append(matches['mother'])\n",
    "            myDict['otherFamily'].append(matches['otherFamily'])\n",
    "\n",
    "\n",
    "len(myDict['freq'])\n",
    "len(myDict['date'])\n",
    "len(myDict['name'])\n",
    "len(myDict['father'])\n",
    "len(myDict['mother'])\n",
    "len(myDict['otherFamily'])"
   ]
  },
  {
   "attachments": {},
   "cell_type": "markdown",
   "metadata": {},
   "source": [
    "####  a) Calcula a frequência de processos por ano (primeiro elemento da data);\n",
    "\n"
   ]
  },
  {
   "cell_type": "code",
   "execution_count": 15,
   "metadata": {},
   "outputs": [
    {
     "name": "stdout",
     "output_type": "stream",
     "text": [
      "{'1894': '0.00264', '1909': '0.00264', '1867': '0.00264', '1896': '0.00264', '1904': '0.00264', '1901': '0.00264', '1883': '0.00264', '1900': '0.00264', '1902': '0.00264', '1880': '0.00264', '1889': '0.00264', '1908': '0.00264', '1869': '0.00264', '1862': '0.00264', '1906': '0.00264', '1856': '0.00264', '1875': '0.00264', '1892': '0.00264', '1733': '0.00264', '1778': '0.00264', '1691': '0.00264', '1730': '0.00264', '1899': '0.00264', '1898': '0.00264', '1877': '0.00264', '1910': '0.00264', '1881': '0.00264', '1907': '0.00264', '1884': '0.00264', '1879': '0.00264', '1895': '0.00264', '1897': '0.00264', '1707': '0.00264', '1689': '0.00264', '1713': '0.00264', '1824': '0.00264', '1703': '0.00264', '1720': '0.00264', '1890': '0.00264', '1732': '0.00264', '1683': '0.00264', '1863': '0.00264', '1729': '0.00264', '1694': '0.00264', '1765': '0.00264', '1754': '0.00264', '1690': '0.00264', '1755': '0.00264', '1823': '0.00264', '1708': '0.00264', '1757': '0.00264', '1699': '0.00264', '1759': '0.00264', '1712': '0.00264', '1687': '0.00264', '1738': '0.00264', '1717': '0.00264', '1684': '0.00264', '1704': '0.00264', '1688': '0.00264', '1888': '0.00264', '1734': '0.00264', '1786': '0.00264', '1798': '0.00264', '1773': '0.00264', '1821': '0.00264', '1822': '0.00264', '1809': '0.00264', '1722': '0.00264', '1680': '0.00264', '1695': '0.00264', '1728': '0.00264', '1716': '0.00264', '1849': '0.00264', '1777': '0.00264', '1851': '0.00264', '1785': '0.00264', '1857': '0.00264', '1686': '0.00264', '1784': '0.00264', '1780': '0.00264', '1727': '0.00264', '1788': '0.00264', '1719': '0.00264', '1847': '0.00264', '1799': '0.00264', '1829': '0.00264', '1787': '0.00264', '1805': '0.00264', '1819': '0.00264', '1844': '0.00264', '1891': '0.00264', '1731': '0.00264', '1760': '0.00264', '1741': '0.00264', '1725': '0.00264', '1802': '0.00264', '1827': '0.00264', '1885': '0.00264', '1807': '0.00264', '1710': '0.00264', '1692': '0.00264', '1706': '0.00264', '1858': '0.00264', '1739': '0.00264', '1826': '0.00264', '1714': '0.00264', '1762': '0.00264', '1743': '0.00264', '1724': '0.00264', '1697': '0.00264', '1852': '0.00264', '1740': '0.00264', '1855': '0.00264', '1723': '0.00264', '1859': '0.00264', '1811': '0.00264', '1817': '0.00264', '1685': '0.00264', '1905': '0.00264', '1893': '0.00264', '1865': '0.00264', '1848': '0.00264', '1911': '0.00264', '1882': '0.00264', '1735': '0.00264', '1871': '0.00264', '1903': '0.00264', '1850': '0.00264', '1825': '0.00264', '1843': '0.00264', '1860': '0.00264', '1812': '0.00264', '1846': '0.00264', '1845': '0.00264', '1701': '0.00264', '1746': '0.00264', '1868': '0.00264', '1715': '0.00264', '1803': '0.00264', '1830': '0.00264', '1761': '0.00264', '1766': '0.00264', '1672': '0.00264', '1876': '0.00264', '1698': '0.00264', '1726': '0.00264', '1679': '0.00264', '1750': '0.00264', '1711': '0.00264', '1810': '0.00264', '1756': '0.00264', '1721': '0.00264', '1873': '0.00264', '1831': '0.00264', '1781': '0.00264', '1818': '0.00264', '1816': '0.00264', '1783': '0.00264', '1752': '0.00264', '1866': '0.00264', '1747': '0.00264', '1771': '0.00264', '1700': '0.00264', '1682': '0.00264', '1794': '0.00264', '1742': '0.00264', '1887': '0.00264', '1836': '0.00264', '1878': '0.00264', '1886': '0.00264', '1702': '0.00264', '1767': '0.00264', '1709': '0.00264', '1779': '0.00264', '1751': '0.00264', '1681': '0.00264', '1748': '0.00264', '1678': '0.00264', '1839': '0.00264', '1770': '0.00264', '1673': '0.00264', '1792': '0.00264', '1796': '0.00264', '1828': '0.00264', '1736': '0.00264', '1737': '0.00264', '1696': '0.00264', '1853': '0.00264', '1772': '0.00264', '1718': '0.00264', '1776': '0.00264', '1804': '0.00264', '1774': '0.00264', '1832': '0.00264', '1806': '0.00264', '1820': '0.00264', '1808': '0.00264', '1854': '0.00264', '1861': '0.00264', '1833': '0.00264', '1841': '0.00264', '1705': '0.00264', '1872': '0.00264', '1874': '0.00264', '1782': '0.00264', '1693': '0.00264', '1838': '0.00264', '1797': '0.00264', '1660': '0.00264', '1864': '0.00264', '1870': '0.00264', '1744': '0.00264', '1800': '0.00264', '1655': '0.00264', '1795': '0.00264', '1840': '0.00264', '1764': '0.00264', '1763': '0.00264', '1676': '0.00264', '1768': '0.00264', '1753': '0.00264', '1842': '0.00264', '1671': '0.00264', '1801': '0.00264', '1814': '0.00264', '1815': '0.00264', '1758': '0.00264', '1749': '0.00264', '1775': '0.00264', '1745': '0.00264', '1834': '0.00264', '1769': '0.00264', '1793': '0.00264', '1665': '0.00264', '1813': '0.00264', '1635': '0.00264', '1616': '0.00264', '1791': '0.00264', '1631': '0.00264', '1658': '0.00264', '1664': '0.00264', '1789': '0.00264', '1623': '0.00264', '1675': '0.00264', '1677': '0.00264', '1666': '0.00264', '1663': '0.00264', '1674': '0.00264', '1668': '0.00264', '1661': '0.00264', '1630': '0.00264', '1628': '0.00264', '1670': '0.00264', '1633': '0.00264', '1632': '0.00264', '1669': '0.00264', '1636': '0.00264', '1667': '0.00264', '1634': '0.00264', '1625': '0.00264', '1656': '0.00264', '1620': '0.00264', '1629': '0.00264', '1622': '0.00264', '1627': '0.00264', '1790': '0.00264', '1650': '0.00264', '1662': '0.00264'}\n"
     ]
    }
   ],
   "source": [
    "dates = myDict['date']\n",
    "years = {}\n",
    "total = len(dates)\n",
    "for date in dates:\n",
    "    d = re.split(\"-\",date)\n",
    "    if int(d[0]) in years:\n",
    "        years[d[0]] = years[d[0]]+1\n",
    "    else:\n",
    "        new = {d[0]: 1}\n",
    "        years.update(new)\n",
    "\n",
    "for year,value in years.items():\n",
    "    years[year] = \"{:.5f}\".format(value/total * 100) \n",
    "\n",
    "print(years)"
   ]
  },
  {
   "attachments": {},
   "cell_type": "markdown",
   "metadata": {},
   "source": [
    "####  b) Calcula a frequência de nomes próprios (o primeiro em cada nome) e apelidos (o ultimo em cada nome) por séculos e apresenta os 5 mais usados;\n"
   ]
  },
  {
   "cell_type": "code",
   "execution_count": 22,
   "metadata": {},
   "outputs": [
    {
     "name": "stdout",
     "output_type": "stream",
     "text": [
      "Top five first names for 1800:\n",
      "    Jose:5.514783526927138\n",
      "    Antonio:4.852164730728617\n",
      "    Manuel:3.988912354804646\n",
      "    Joao:3.357972544878564\n",
      "    Francisco:2.2518479408658925\n",
      "Top five first names for 1900:\n",
      "    Antonio:0.26399155227032733\n",
      "    Jose:0.22703273495248152\n",
      "    Manuel:0.2191129883843717\n",
      "    Joao:0.0897571277719113\n",
      "    Joaquim:0.04487856388595565\n",
      "Top five first names for 1700:\n",
      "    Manuel:10.277191129883843\n",
      "    Joao:7.946145723336853\n",
      "    Antonio:7.563357972544879\n",
      "    Jose:6.718585005279831\n",
      "    Francisco:5.5517423442449845\n",
      "Top five first names for 1600:\n",
      "    Manuel:1.6129883843717001\n",
      "    Joao:1.5892291446673708\n",
      "    Antonio:1.3173178458289334\n",
      "    Francisco:1.1193241816261879\n",
      "    Domingos:0.7470960929250264\n",
      "Top five last names for 1800:\n",
      "    Pereira:1.1510031678986272\n",
      "    Silva:1.1298838437170011\n",
      "    Costa:0.9134107708553326\n",
      "    Sousa:0.8025343189017952\n",
      "    Araujo:0.7022175290390708\n",
      "Top five last names for 1900:\n",
      "    Silva:0.07127771911298839\n",
      "    Costa:0.05807814149947202\n",
      "    Oliveira:0.042238648363252376\n",
      "    Ferreira:0.03959873284054911\n",
      "    Pereira:0.03695881731784583\n",
      "Top five last names for 1700:\n",
      "    Pereira:2.5818373812038016\n",
      "    Silva:2.402323125659979\n",
      "    Costa:2.0908130939809926\n",
      "    Carvalho:1.9165786694825766\n",
      "    Araujo:1.776663146779303\n",
      "Top five last names for 1600:\n",
      "    Silva:0.46462513199577615\n",
      "    Pereira:0.4461457233368532\n",
      "    Costa:0.39334741288278774\n",
      "    Araujo:0.3801478352692714\n",
      "    Carvalho:0.2877507919746568\n"
     ]
    }
   ],
   "source": [
    "names = myDict['name']\n",
    "dates = myDict['date']\n",
    "total = len(names)\n",
    "first = {}\n",
    "last = {}\n",
    "i = 0\n",
    "\n",
    "while i < len(dates):\n",
    "    date = dates[i]\n",
    "    d = re.split(\"-\",date)\n",
    "    sec = d[0][0] + d[0][1] + '0' + '0'\n",
    "    nameSplit = re.split(r'[ ]+', names[i])\n",
    "    l = len(nameSplit)-1\n",
    "    if sec in first:\n",
    "        if nameSplit[0] in first[sec]:\n",
    "            first[sec][nameSplit[0]]+=1\n",
    "        else:\n",
    "            first[sec][nameSplit[0]]=1\n",
    "        if nameSplit[l] in last[sec]:\n",
    "            last[sec][nameSplit[l]]+=1\n",
    "        else:\n",
    "            last[sec][nameSplit[l]]=1\n",
    "    else:\n",
    "        first[sec]={}\n",
    "        first[sec][nameSplit[0]]=1\n",
    "        last[sec]={}\n",
    "        last[sec][nameSplit[l]]=1\n",
    "    i+=1\n",
    "\n",
    "for sec in first:\n",
    "    sorted_names = sorted(first[sec], key=first[sec].get, reverse=True)\n",
    "    top_names = sorted_names[:5]\n",
    "    print(f\"Top five first names for {sec}:\")\n",
    "    for n in top_names:\n",
    "        print(f\"    {n}:{(first[sec][n]/total)*100}\")\n",
    "\n",
    "for sec in last:\n",
    "    sorted_names = sorted(last[sec], key=last[sec].get, reverse=True)\n",
    "    top_names = sorted_names[:5]\n",
    "    print(f\"Top five last names for {sec}:\")\n",
    "    for n in top_names:\n",
    "        print(f\"    {n}:{(last[sec][n]/total)*100}\")\n",
    "        \n"
   ]
  },
  {
   "attachments": {},
   "cell_type": "markdown",
   "metadata": {},
   "source": [
    "####  c) Calcula a frequência dos vários tipos de relação: irmão, sobrinho, etc.;"
   ]
  },
  {
   "cell_type": "code",
   "execution_count": 190,
   "metadata": {},
   "outputs": [
    {
     "name": "stdout",
     "output_type": "stream",
     "text": [
      "Tio Paterno: 2245 que corresponde a 5.9266103484688495%\n",
      "Tio Materno: 2463 que corresponde a 6.502111932418162%\n",
      "Irmao: 13167 que corresponde a 34.759767687434%\n",
      "Primo Paterno: 205 que corresponde a 0.541182682154171%\n",
      "Sobrinho Materno: 1698 que corresponde a 4.482576557550159%\n",
      "Pai: 525 que corresponde a 1.3859556494192187%\n",
      "Filho: 346 que corresponde a 0.9134107708553326%\n",
      "Sobrinho Paterno: 1642 que corresponde a 4.334741288278774%\n",
      "Irmaos: 1509 que corresponde a 3.9836325237592396%\n",
      "Sobrinhos Maternos: 204 que corresponde a 0.5385427666314678%\n",
      "Irmao Paterno: 497 que corresponde a 1.3120380147835269%\n",
      "Neto Materno: 41 que corresponde a 0.10823653643083422%\n",
      "Sobrinhos Paternos: 131 que corresponde a 0.34582893347412885%\n",
      "Sobrinho Neto Paterno: 97 que corresponde a 0.25607180570221755%\n",
      "Primo: 673 que corresponde a 1.776663146779303%\n",
      "Primo Materno: 283 que corresponde a 0.7470960929250264%\n",
      "Tio Avo Paterno: 154 que corresponde a 0.40654699049630416%\n",
      "Tio Avo Materno: 230 que corresponde a 0.607180570221753%\n",
      "Irmao Materno: 55 que corresponde a 0.14519535374868003%\n",
      "Sobrinho Bisneto Paterno: 3 que corresponde a 0.007919746568109821%\n",
      "Tios Maternos: 40 que corresponde a 0.10559662090813093%\n",
      "Irmaos Paternos: 49 que corresponde a 0.1293558606124604%\n",
      "Sobrinho Neto Materno: 145 que corresponde a 0.38278775079197463%\n",
      "Avo Materno: 48 que corresponde a 0.12671594508975714%\n",
      "Bisavo Materno: 2 que corresponde a 0.005279831045406547%\n",
      "Filhos: 25 que corresponde a 0.06599788806758183%\n",
      "Avo Paterno: 11 que corresponde a 0.02903907074973601%\n",
      "Neto Paterno: 8 que corresponde a 0.021119324181626188%\n",
      "Tios Paternos: 26 que corresponde a 0.06863780359028511%\n",
      "Tio Bisavo Materno: 5 que corresponde a 0.013199577613516367%\n",
      "Primos: 33 que corresponde a 0.08711721224920801%\n",
      "Parente: 4 que corresponde a 0.010559662090813094%\n",
      "Primos Paternos: 2 que corresponde a 0.005279831045406547%\n",
      "Tio Bisavo Paterno: 6 que corresponde a 0.015839493136219643%\n",
      "Irmaos Maternos: 10 que corresponde a 0.026399155227032733%\n",
      "Sobrinhos Netos Paternos: 4 que corresponde a 0.010559662090813094%\n",
      "Sobrinho Neto: 2 que corresponde a 0.005279831045406547%\n",
      "Tio Avo: 3 que corresponde a 0.007919746568109821%\n",
      "Tio: 5 que corresponde a 0.013199577613516367%\n",
      "Sobrinhos Netos Maternos: 10 que corresponde a 0.026399155227032733%\n",
      "Meio Irmao: 3 que corresponde a 0.007919746568109821%\n",
      "Sobrinho Bisneto Materno: 3 que corresponde a 0.007919746568109821%\n",
      "Primos Maternos: 2 que corresponde a 0.005279831045406547%\n"
     ]
    }
   ],
   "source": [
    "otherFamily = myDict['otherFamily']\n",
    "freqOtherFamily = {}\n",
    "options = ['Tio Paterno', 'Tio Materno', 'Irmao', 'Primo Paterno', 'Sobrinho Materno', 'Pai', 'Filho', 'Sobrinho Paterno', 'Irmaos', 'Sobrinhos Maternos', 'Irmao Paterno', 'Neto Materno', 'Sobrinhos Paternos', 'Sobrinho Neto Paterno', 'Primo', 'Primo Materno', 'Tio Avo Paterno', 'Tio Avo Materno', 'Irmao Materno', 'Sobrinho Bisneto Paterno', 'Tios Maternos', 'Irmaos Paternos', 'Sobrinho Neto Materno', 'Avo Materno', 'Bisavo Materno', 'Filhos', 'Avo Paterno', 'Neto Paterno', 'Tios Paternos', 'Tio Bisavo Materno', 'Primos', 'Parente', 'Primos Paternos', 'Tio Bisavo Paterno', 'Irmaos Maternos', 'Sobrinhos Netos Paternos', 'Sobrinho Neto', 'Tio Avo', 'Tio', 'Sobrinhos Netos Maternos', 'Meio Irmao', 'Sobrinho Bisneto Materno', 'Primos Maternos']\n",
    "\n",
    "for f in otherFamily:\n",
    "    if len(f)>0:\n",
    "        fSplit = re.split(r'\\.',f)\n",
    "        for r in fSplit:\n",
    "            res = re.search(r\"\\bProc\\b|\\d|\\bDoc\\b|danificado|Beneditino\",r)\n",
    "            if not res:\n",
    "                if re.search(r'\\bIrmaos\\b|\\bTios\\b|\\bPrimos\\b|\\bSobrinhos\\b',r):\n",
    "                    irmaos = re.split(r'\\,|\\be\\b',r)\n",
    "                    lenI = len(irmaos)-1\n",
    "                    if irmaos[lenI] in options:\n",
    "                        if irmaos[lenI] in freqOtherFamily:\n",
    "                            freqOtherFamily[irmaos[lenI]]+=lenI-len(re.findall('^$', '\\n'.join(irmaos), re.MULTILINE))\n",
    "                        else:\n",
    "                            new = {irmaos[lenI]: lenI-len(re.findall('^$', '\\n'.join(irmaos), re.MULTILINE))}\n",
    "                            freqOtherFamily.update(new)\n",
    "                else:\n",
    "                    rel = re.split(r',',r)\n",
    "                    if len(rel)>1 and rel[1] in options:\n",
    "                        if rel[1] in freqOtherFamily:\n",
    "                            freqOtherFamily[rel[1]]+=1\n",
    "                        else:\n",
    "                            new = {rel[1]: 1}\n",
    "                            freqOtherFamily.update(new)\n",
    "\n",
    "for key, value in freqOtherFamily.items():\n",
    "    print(f\"{key}: {value} que corresponde a {(value/total)*100}%\")\n"
   ]
  },
  {
   "attachments": {},
   "cell_type": "markdown",
   "metadata": {},
   "source": [
    "####  d) Converta os 20 primeiros registos num novo ficheiro de output mas em formato Json."
   ]
  },
  {
   "cell_type": "code",
   "execution_count": 6,
   "metadata": {},
   "outputs": [],
   "source": [
    "len(myDict['freq'])\n",
    "len(myDict['date'])\n",
    "len(myDict['name'])\n",
    "len(myDict['father'])\n",
    "len(myDict['mother'])\n",
    "len(myDict['otherFamily'])\n",
    "\n",
    "\n",
    "f20={}\n",
    "f20['Registos']=[]\n",
    "for i in range(20):\n",
    "    f20['Registos'].append({})\n",
    "    for j in ['freq','date', 'name', 'father', 'mother', 'otherFamily']:\n",
    "        f20['Registos'][i][j] = myDict[j][i]\n",
    "\n",
    "with open('output.json', 'w') as f:\n",
    "    f.write(json.dumps(f20, indent=4))\n"
   ]
  }
 ],
 "metadata": {
  "kernelspec": {
   "display_name": "Python 3",
   "language": "python",
   "name": "python3"
  },
  "language_info": {
   "codemirror_mode": {
    "name": "ipython",
    "version": 3
   },
   "file_extension": ".py",
   "mimetype": "text/x-python",
   "name": "python",
   "nbconvert_exporter": "python",
   "pygments_lexer": "ipython3",
   "version": "3.11.1"
  },
  "orig_nbformat": 4,
  "vscode": {
   "interpreter": {
    "hash": "e7370f93d1d0cde622a1f8e1c04877d8463912d04d973331ad4851f04de6915a"
   }
  }
 },
 "nbformat": 4,
 "nbformat_minor": 2
}
