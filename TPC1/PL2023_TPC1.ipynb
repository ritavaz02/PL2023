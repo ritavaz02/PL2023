{
  "cells": [
    {
      "cell_type": "code",
      "execution_count": 81,
      "metadata": {},
      "outputs": [],
      "source": [
        "from prettytable import PrettyTable\n",
        "import os"
      ]
    },
    {
      "attachments": {},
      "cell_type": "markdown",
      "metadata": {},
      "source": [
        "# TPC1: Análise de dados: doença cardíaca\n",
        "\n",
        "Descarregue o ficheiro de dados: `myheart.csv`\n",
        "Crie um programa em Python, conjunto de funções, que responda às seguintes questões:\n",
        "* Crie uma função que lê a informação do ficheiro para um modelo, previamente pensado em memória;\n",
        "* Pense num modelo para guardar uma distribuição;\n",
        "* Crie uma função que calcula a distribuição da doença por sexo;\n",
        "* Crie uma função que calcula a distribuição da doença por escalões etários. Considere os seguintes escalões: [30-34], [35-39], [40-44], ...\n",
        "* Crie uma função que calcula a distribuição da doença por níveis de colesterol. Considere um nível igual a um intervalo de 10 unidades, comece no limite inferior e crie os níveis necessários até abranger o limite superior;\n",
        "* Crie uma função que imprime na forma de uma tabela uma distribuição;\n",
        "* Especifique um programa que ao executar apresenta as tabelas correspondentes às distribuições pedidas;\n",
        "* Extra: explore o módulo matplotlib e crie gráficos para as suas distribuições."
      ]
    },
    {
      "attachments": {},
      "cell_type": "markdown",
      "metadata": {},
      "source": [
        "#### Pense num modelo para guardar uma distribuição"
      ]
    },
    {
      "cell_type": "code",
      "execution_count": null,
      "metadata": {},
      "outputs": [],
      "source": [
        "d = dict()\n",
        "# head[0] = age, head[1] = sexo, head[2] = tensão, head[3] = colesterol, head[4] = batimento, head[5] = temDoença\n",
        "d = {'idade': [], 'sexo': [], 'tensão': [], 'colesterol': [], 'batimento': [], 'temDoença': []}"
      ]
    },
    {
      "attachments": {},
      "cell_type": "markdown",
      "metadata": {},
      "source": [
        "#### Crie uma função que lê a informação do ficheiro para um modelo, previamente pensado em memória"
      ]
    },
    {
      "cell_type": "code",
      "execution_count": null,
      "metadata": {},
      "outputs": [],
      "source": [
        "def getInfo(d):\n",
        "    # Crie uma função que lê a informação do ficheiro para um modelo, previamente pensado em memória;\n",
        "    f = open(\"myheart.csv\", \"rt\")\n",
        "\n",
        "    # content = idade,sexo,tensão,colesterol,batimento,temDoença\n",
        "    content = f.readline()\n",
        "    # head[0] = idade, head[1] = sexo, head[2] = tensão, head[3] = colesterol, head[4] = batimento, head[5] = temDoença\n",
        "    head = content.replace(\"\\n\",\"\").split(\",\")\n",
        "\n",
        "    for line in f:\n",
        "        l = line.split(\",\")\n",
        "        d[head[0]].append(l[0])\n",
        "        d[head[1]].append(l[1])\n",
        "        d[head[2]].append(l[2])\n",
        "        d[head[3]].append(l[3])\n",
        "        d[head[4]].append(l[4])\n",
        "        d[head[5]].append(l[5].replace(\"\\n\",\"\"))\n",
        "\n",
        "    f.close()\n",
        "\n",
        "getInfo(d)\n",
        "\n",
        "# verifica as pessoas que contêm a doença\n",
        "haveDisease = []\n",
        "i = 0\n",
        "for dead in d['temDoença']:\n",
        "    if dead == \"1\":\n",
        "        haveDisease.append(i)\n",
        "    i += 1\n",
        "haveDiseaseNumber = len(haveDisease)"
      ]
    },
    {
      "attachments": {},
      "cell_type": "markdown",
      "metadata": {},
      "source": [
        "#### Crie uma função que imprime na forma de uma tabela uma distribuição"
      ]
    },
    {
      "cell_type": "code",
      "execution_count": null,
      "metadata": {},
      "outputs": [],
      "source": [
        "def createTable(distDict):\n",
        "    t = PrettyTable()\n",
        "\n",
        "    t.field_names = [\"Range\", \"Distribution\"]\n",
        "    \n",
        "    tupleDict = []\n",
        "    for i in distDict.keys():\n",
        "        tupleDict.append([i, distDict[i]])\n",
        "\n",
        "    tupleDict.sort(key=lambda x: x[0])\n",
        "    \n",
        "    for row in tupleDict:\n",
        "        t.add_row(row)\n",
        "        \n",
        "    print(t)"
      ]
    },
    {
      "attachments": {},
      "cell_type": "markdown",
      "metadata": {},
      "source": [
        "#### Crie uma função que calcula a distribuição da doença por sexo"
      ]
    },
    {
      "cell_type": "code",
      "execution_count": null,
      "metadata": {},
      "outputs": [],
      "source": [
        "def sexFunc(d,haveDiseaseNumber):\n",
        "    # calcula distribuições por sexo\n",
        "    haveDiseaseF = [i for i in range(haveDiseaseNumber) if d['sexo'][i] == \"F\"]\n",
        "    haveDiseaseM = haveDiseaseNumber - len(haveDiseaseF)\n",
        "    F = format(len(haveDiseaseF)/haveDiseaseNumber, \".2f\")\n",
        "    M = format(haveDiseaseM/haveDiseaseNumber, \".2f\")\n",
        "    sexDist = dict()\n",
        "    sexDist = {'F': F, 'M': M}\n",
        "    createTable(sexDist)\n",
        "\n",
        "sexFunc(d,haveDiseaseNumber)"
      ]
    },
    {
      "attachments": {},
      "cell_type": "markdown",
      "metadata": {},
      "source": [
        "#### Crie uma função que calcula a distribuição da doença por escalões etários. Considere os seguintes escalões: [30-34], [35-39], [40-44], ..."
      ]
    },
    {
      "cell_type": "code",
      "execution_count": null,
      "metadata": {},
      "outputs": [],
      "source": [
        "def agesFunc(d,haveDisease,haveDiseaseNumber):\n",
        "    ages = dict()\n",
        "    for i in haveDisease:\n",
        "        age = int(d['idade'][i])\n",
        "        unitAge = age % 10\n",
        "        number = (age // 10) * 10\n",
        "        #print(\"age=\" + str(age), \", unitAge=\" + str(unitAge) + \", number=\" + str(number))\n",
        "        if unitAge in [0,1,2,3,4]:\n",
        "            init = age-unitAge\n",
        "        else:\n",
        "            init = number+5\n",
        "        finit = init + 4\n",
        "        #print(\"init=\" + str(init) + \", finit=\" + str(finit))\n",
        "        rangeAge = \"[\" + str(init) + \"-\" + str(finit) + \"]\"\n",
        "        if rangeAge not in ages.keys():\n",
        "            newKey = dict()\n",
        "            newKey = {rangeAge: 1}\n",
        "            ages |= newKey\n",
        "        else:\n",
        "            ages[rangeAge] = ages[rangeAge] +1\n",
        "\n",
        "    for key in ages:\n",
        "        ages[key] = format(ages[key]/haveDiseaseNumber , \".2f\")\n",
        "    \n",
        "    createTable(ages)\n",
        "\n",
        "agesFunc(d,haveDisease,haveDiseaseNumber)"
      ]
    },
    {
      "attachments": {},
      "cell_type": "markdown",
      "metadata": {},
      "source": [
        "#### Crie uma função que calcula a distribuição da doença por níveis de colesterol. Considere um nível igual a um intervalo de 10 unidades, comece no limite inferior e crie os níveis necessários até abranger o limite superior"
      ]
    },
    {
      "cell_type": "code",
      "execution_count": null,
      "metadata": {},
      "outputs": [],
      "source": [
        "def colsFunc(d,haveDisease,haveDiseaseNumber):\n",
        "    cols = dict()\n",
        "    # cria à medida que for precisando, ou seja, se aparecer um número num range diferente, cria no momento esse range\n",
        "    for i in haveDisease:\n",
        "        col = int(d['colesterol'][i])\n",
        "        unitCol = col % 10\n",
        "        init = col-unitCol\n",
        "        finit = init + 10\n",
        "        rangeCol = \"[\" + str(init) + \"-\" + str(finit) + \"]\"\n",
        "        if rangeCol not in cols.keys():\n",
        "            newKey = dict()\n",
        "            newKey = {rangeCol: 1}\n",
        "            cols |= newKey\n",
        "        else:\n",
        "            cols[rangeCol] = cols[rangeCol] +1\n",
        "\n",
        "\n",
        "    for key in cols:\n",
        "        cols[key] = format(cols[key]/haveDiseaseNumber, \".2f\")\n",
        "\n",
        "    createTable(cols)\n",
        "\n",
        "colsFunc(d,haveDisease,haveDiseaseNumber)"
      ]
    },
    {
      "attachments": {},
      "cell_type": "markdown",
      "metadata": {},
      "source": [
        "#### Especifique um programa que ao executar apresenta as tabelas correspondentes às distribuições pedidas"
      ]
    },
    {
      "cell_type": "code",
      "execution_count": 82,
      "metadata": {},
      "outputs": [
        {
          "name": "stdout",
          "output_type": "stream",
          "text": [
            "\n",
            "1. Distribuição da doença por sexo\n",
            "2. Distribuição da doença por escalões etários\n",
            "3. Distribuição da doença por níveis de colesterol\n",
            "+-------+--------------+\n",
            "| Range | Distribution |\n",
            "+-------+--------------+\n",
            "|   F   |     0.21     |\n",
            "|   M   |     0.79     |\n",
            "+-------+--------------+\n",
            "\u001b[H\u001b[2J\n",
            "1. Distribuição da doença por sexo\n",
            "2. Distribuição da doença por escalões etários\n",
            "3. Distribuição da doença por níveis de colesterol\n"
          ]
        },
        {
          "ename": "ValueError",
          "evalue": "invalid literal for int() with base 10: ''",
          "output_type": "error",
          "traceback": [
            "\u001b[0;31m---------------------------------------------------------------------------\u001b[0m",
            "\u001b[0;31mValueError\u001b[0m                                Traceback (most recent call last)",
            "Cell \u001b[0;32mIn[82], line 30\u001b[0m\n\u001b[1;32m     23\u001b[0m             l \u001b[39m=\u001b[39m \u001b[39minput\u001b[39m(\u001b[39m\"\u001b[39m\u001b[39mprima enter para continuar\u001b[39m\u001b[39m\"\u001b[39m) \n\u001b[1;32m     25\u001b[0m          os\u001b[39m.\u001b[39msystem(\u001b[39m'\u001b[39m\u001b[39mclear\u001b[39m\u001b[39m'\u001b[39m)\n\u001b[0;32m---> 30\u001b[0m main()\n",
            "Cell \u001b[0;32mIn[82], line 10\u001b[0m, in \u001b[0;36mmain\u001b[0;34m()\u001b[0m\n\u001b[1;32m      7\u001b[0m \u001b[39mprint\u001b[39m(\u001b[39m\"\u001b[39m\u001b[39m2. Distribuição da doença por escalões etários\u001b[39m\u001b[39m\"\u001b[39m)\n\u001b[1;32m      8\u001b[0m \u001b[39mprint\u001b[39m(\u001b[39m\"\u001b[39m\u001b[39m3. Distribuição da doença por níveis de colesterol\u001b[39m\u001b[39m\"\u001b[39m)\n\u001b[0;32m---> 10\u001b[0m saida \u001b[39m=\u001b[39m \u001b[39mint\u001b[39;49m(\u001b[39minput\u001b[39;49m(\u001b[39m\"\u001b[39;49m\u001b[39mintroduza a sua opção-> \u001b[39;49m\u001b[39m\"\u001b[39;49m))\n\u001b[1;32m     12\u001b[0m \u001b[39mif\u001b[39;00m saida \u001b[39m==\u001b[39m \u001b[39m0\u001b[39m:\n\u001b[1;32m     13\u001b[0m    \u001b[39mprint\u001b[39m(\u001b[39m\"\u001b[39m\u001b[39msaindo.......\u001b[39m\u001b[39m\"\u001b[39m)\n",
            "\u001b[0;31mValueError\u001b[0m: invalid literal for int() with base 10: ''"
          ]
        }
      ],
      "source": [
        "def main():\n",
        "\n",
        "   saida = -1\n",
        "   while saida != 0:\n",
        "         print(\"\")\n",
        "         print(\"1. Distribuição da doença por sexo\")\n",
        "         print(\"2. Distribuição da doença por escalões etários\")\n",
        "         print(\"3. Distribuição da doença por níveis de colesterol\")\n",
        "\n",
        "         saida = int(input(\"introduza a sua opção-> \"))\n",
        "\n",
        "         if saida == 0:\n",
        "            print(\"saindo.......\")\n",
        "         elif saida == 1:\n",
        "            sexFunc(d,haveDiseaseNumber)\n",
        "         elif saida == 2:\n",
        "            agesFunc(d,haveDisease,haveDiseaseNumber)\n",
        "         elif saida == 3:\n",
        "            colsFunc(d,haveDisease,haveDiseaseNumber)\n",
        "         else:\n",
        "            print(\"you didn't add anything\")\n",
        "         if saida != 0 :\n",
        "            l = input(\"prima enter para continuar\") \n",
        "\n",
        "         os.system('clear')\n",
        "\n",
        "main()"
      ]
    }
  ],
  "metadata": {
    "colab": {
      "provenance": []
    },
    "kernelspec": {
      "display_name": "Python 3",
      "language": "python",
      "name": "python3"
    },
    "language_info": {
      "codemirror_mode": {
        "name": "ipython",
        "version": 3
      },
      "file_extension": ".py",
      "mimetype": "text/x-python",
      "name": "python",
      "nbconvert_exporter": "python",
      "pygments_lexer": "ipython3",
      "version": "3.11.1"
    },
    "vscode": {
      "interpreter": {
        "hash": "e7370f93d1d0cde622a1f8e1c04877d8463912d04d973331ad4851f04de6915a"
      }
    }
  },
  "nbformat": 4,
  "nbformat_minor": 0
}
